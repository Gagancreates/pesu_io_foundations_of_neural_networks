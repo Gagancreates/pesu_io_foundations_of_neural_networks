{
 "cells": [
  {
   "cell_type": "code",
   "execution_count": 39,
   "id": "541582b5",
   "metadata": {},
   "outputs": [],
   "source": [
    "import numpy as np\n",
    "import matplotlib.pyplot as plt"
   ]
  },
  {
   "cell_type": "code",
   "execution_count": 40,
   "id": "2c659ef5",
   "metadata": {},
   "outputs": [
    {
     "name": "stdout",
     "output_type": "stream",
     "text": [
      "Areas: [ 500  800 1000 1200 1500 1800 2000 2500]\n",
      "Prices: [ 70 100 120 140 170 200 220 270]\n"
     ]
    }
   ],
   "source": [
    "# Toy dataset: Area (sqft) vs Price (lakhs)\n",
    "\n",
    "X = np.array([500, 800, 1000, 1200, 1500, 1800, 2000, 2500])\n",
    "y=np.array([ 70, 100, 120, 140, 170, 200, 220, 270])\n",
    "\n",
    "print(\"Areas:\", X)\n",
    "print(\"Prices:\", y)\n"
   ]
  },
  {
   "cell_type": "code",
   "execution_count": 49,
   "id": "403e5650",
   "metadata": {},
   "outputs": [
    {
     "data": {
      "text/plain": [
       "array([0.  , 0.15, 0.25, 0.35, 0.5 , 0.65, 0.75, 1.  ])"
      ]
     },
     "execution_count": 49,
     "metadata": {},
     "output_type": "execute_result"
    }
   ],
   "source": [
    "#normalise the input X using minmax\n",
    "\n",
    "X=(X-np.min(X))/(np.max(X)-np.min(X))\n",
    "X"
   ]
  },
  {
   "cell_type": "code",
   "execution_count": 50,
   "id": "a39561cb",
   "metadata": {},
   "outputs": [],
   "source": [
    "# now lets train the network to identify the weights and bias\n",
    "# initialise ranom weights and bias\n",
    "np.random.seed(11)\n",
    "w=np.random.rand()\n",
    "b=0"
   ]
  },
  {
   "cell_type": "code",
   "execution_count": 51,
   "id": "c97610b4",
   "metadata": {},
   "outputs": [],
   "source": [
    "def prediction(X, w, b):\n",
    "    return np.dot(w, X)+b"
   ]
  },
  {
   "cell_type": "code",
   "execution_count": 65,
   "id": "6c25a936",
   "metadata": {},
   "outputs": [
    {
     "name": "stdout",
     "output_type": "stream",
     "text": [
      "199.99999999999108 70.00000000000442\n"
     ]
    }
   ],
   "source": [
    "epoch=1000\n",
    "n=len(X)\n",
    "alpha=1e-5\n",
    "for __ in range(epoch):\n",
    "    y_pred=prediction(X, w, b)\n",
    "    dw=(-2/n)*(np.sum(X*(y-y_pred)))\n",
    "    db=(-2/n)*(np.sum((y-y_pred)))\n",
    "    w=w-alpha*dw\n",
    "    b=b-alpha*db\n",
    "print(w, b)"
   ]
  },
  {
   "cell_type": "code",
   "execution_count": null,
   "id": "cade3e48",
   "metadata": {},
   "outputs": [
    {
     "name": "stdout",
     "output_type": "stream",
     "text": [
      "[ 70. 100. 120. 140. 170. 200. 220. 270.]\n"
     ]
    },
    {
     "data": {
      "text/plain": [
       "array([ 70, 100, 120, 140, 170, 200, 220, 270])"
      ]
     },
     "execution_count": 66,
     "metadata": {},
     "output_type": "execute_result"
    }
   ],
   "source": [
    "print(prediction(X, w, b))\n",
    "y\n",
    "\n",
    "# our prediction matches the output!!"
   ]
  },
  {
   "cell_type": "code",
   "execution_count": null,
   "id": "2b4f51c4",
   "metadata": {},
   "outputs": [],
   "source": []
  }
 ],
 "metadata": {
  "kernelspec": {
   "display_name": "Python 3",
   "language": "python",
   "name": "python3"
  },
  "language_info": {
   "codemirror_mode": {
    "name": "ipython",
    "version": 3
   },
   "file_extension": ".py",
   "mimetype": "text/x-python",
   "name": "python",
   "nbconvert_exporter": "python",
   "pygments_lexer": "ipython3",
   "version": "3.12.8"
  }
 },
 "nbformat": 4,
 "nbformat_minor": 5
}
