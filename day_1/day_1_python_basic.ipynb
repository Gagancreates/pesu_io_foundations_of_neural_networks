{
  "nbformat": 4,
  "nbformat_minor": 0,
  "metadata": {
    "colab": {
      "provenance": [],
      "authorship_tag": "ABX9TyPlF0UkEauTGj2St1UT+udi",
      "include_colab_link": true
    },
    "kernelspec": {
      "name": "python3",
      "display_name": "Python 3"
    },
    "language_info": {
      "name": "python"
    }
  },
  "cells": [
    {
      "cell_type": "markdown",
      "metadata": {
        "id": "view-in-github",
        "colab_type": "text"
      },
      "source": [
        "<a href=\"https://colab.research.google.com/github/Gagancreates/pesu_io_foundations_of_neural_networks/blob/main/day_1/day_1_python_basic.ipynb\" target=\"_parent\"><img src=\"https://colab.research.google.com/assets/colab-badge.svg\" alt=\"Open In Colab\"/></a>"
      ]
    },
    {
      "cell_type": "markdown",
      "source": [
        "# Python Basics for Machine Learning, PESU-IO  \n",
        "# Course Instructor: Gagan P  \n",
        "\n",
        "Welcome!  \n",
        "This notebook will help you refresh Python basics step by step.  \n",
        "\n",
        "👉 **How to use Jupyter Notebook:**  \n",
        "Jupyter Notebook is an interactive coding environment where you can write and run Python code in separate blocks called **cells**.  \n",
        "- **Run a cell:** Click inside a cell and press **Shift + Enter** (or use the ▶️ Run button on the toolbar).  \n",
        "- **Add a cell:** Use the **+** button or press **B** (below) / **A** (above) in command mode.  \n",
        "- **Edit vs. Command Mode:** Press **Enter** to edit a cell, press **Esc** to switch to command mode for shortcuts.  \n",
        "- You can mix **Markdown cells** (for text/explanations) and **Code cells** (for Python code).  \n",
        "\n",
        "Follow along, run each cell, and try the examples yourself!\n"
      ],
      "metadata": {
        "id": "VjkromX5fsJN"
      }
    },
    {
      "cell_type": "markdown",
      "source": [
        "## 1. Variables & Data Types\n",
        "Variables store data. Python infers the type automatically.\n",
        "\n",
        "Common types:\n",
        "- `int` : whole numbers\n",
        "- `float` : decimals\n",
        "- `str` : text\n",
        "- `bool`: True/False\n"
      ],
      "metadata": {
        "id": "Wb4uEZpQgoc7"
      }
    },
    {
      "cell_type": "code",
      "source": [
        "x = 10\n",
        "pi = 3.14\n",
        "name = \"Machine Learning\"\n",
        "is_fun = True\n",
        "\n",
        "print(x, type(x))\n",
        "print(pi, type(pi))\n",
        "print(name, type(name))\n",
        "print(is_fun, type(is_fun))\n"
      ],
      "metadata": {
        "id": "RR6keQ7qgo2Y"
      },
      "execution_count": null,
      "outputs": []
    },
    {
      "cell_type": "markdown",
      "source": [
        "### 🔹 Predict the Output\n",
        "-First Try to answer it and Then run the code  \n",
        "-What will be printed if we run:\n",
        "```python\n",
        "value = 7.0\n",
        "print(type(value))\n"
      ],
      "metadata": {
        "id": "zkHihPsJhOn2"
      }
    },
    {
      "cell_type": "markdown",
      "source": [
        "### Run this after you answer"
      ],
      "metadata": {
        "id": "2MLFojmJjycu"
      }
    },
    {
      "cell_type": "code",
      "source": [
        "value = 7.0\n",
        "print(type(value))"
      ],
      "metadata": {
        "id": "-DWTofWZh1TP"
      },
      "execution_count": null,
      "outputs": []
    },
    {
      "cell_type": "markdown",
      "source": [
        "\n",
        "---\n",
        "\n",
        "# 2. Basic Operations\n",
        "\n",
        "\n",
        "### Basic Math\n",
        "Python supports all arithmetic operators: `+ - * / // % **`.\n",
        "- `/` : normal division (float)\n",
        "- `//` : integer division(5//2 =2, as 2.5 is rounded off to 2 )\n",
        "- `%` : remainder\n",
        "- `**` : power\n"
      ],
      "metadata": {
        "id": "Ya_Gogsah7mo"
      }
    },
    {
      "cell_type": "code",
      "source": [
        "a, b = 5, 2\n",
        "print(a + b, a - b, a * b, a / b, a // b, a % b, a ** b)\n"
      ],
      "metadata": {
        "id": "nlfeyTKNgump"
      },
      "execution_count": null,
      "outputs": []
    },
    {
      "cell_type": "markdown",
      "source": [
        "💡 Try: Change `a` and `b` to 7 and 3. Predict the results first.\n"
      ],
      "metadata": {
        "id": "fTrYSH3widtE"
      }
    },
    {
      "cell_type": "markdown",
      "source": [
        "## 3. Strings\n",
        "Strings are text data. They support:\n",
        "- methods (`upper()`, `replace()`)\n",
        "- slicing (`text[start:end]`)\n",
        "- f-strings for formatting\n"
      ],
      "metadata": {
        "id": "4Sqzi98Tiswj"
      }
    },
    {
      "cell_type": "code",
      "source": [
        "s = \"hello world\"\n",
        "print(s.upper())\n",
        "print(s.replace(\"world\",\"ML\"))\n",
        "print(s[0:5])   #prints first 5 letters\n",
        "name = \"Alice\"\n",
        "print(\"Hello \" , name)\n"
      ],
      "metadata": {
        "id": "RITtAFItivej"
      },
      "execution_count": null,
      "outputs": []
    },
    {
      "cell_type": "markdown",
      "source": [
        "Replace `____` to print only `world` from the string \"hello world\".  \n",
        "Run the code by writing it out in a new cell  \n",
        "Hint: `s[0:5]` prints the first 5 letters, now give the index from the first letter starting from `0`, i.e the index of `h` is `0`\n",
        "```\n",
        "s = \"hello world\"\n",
        "print(s[____])\n"
      ],
      "metadata": {
        "id": "o9pXlAnjjEvJ"
      }
    },
    {
      "cell_type": "markdown",
      "source": [
        "### answer:\n",
        "since the index of `w` is `6` `print(s[6:])` will print `\"world\"`"
      ],
      "metadata": {
        "id": "JJz16tmYkZKY"
      }
    },
    {
      "cell_type": "markdown",
      "source": [
        "\n",
        "---\n",
        "\n",
        "### 4. Collections (Lists, Tuples, Sets, Dict)\n",
        "\n",
        "\n",
        "- **List** : ordered, mutable\n",
        "- **Tuple** : ordered, immutable\n",
        "- **Set** : unordered, unique\n",
        "- **Dictionary** : key-value pairs\n"
      ],
      "metadata": {
        "id": "QF9WHWGskxHG"
      }
    },
    {
      "cell_type": "code",
      "source": [
        "nums = [1, 2, 3]\n",
        "# lists should always contain homogeneous data, only int, only float, only strings, etc.\n",
        "\n",
        "nums.append(4)          # .append() will add a new element to the list\n",
        "print(\"List:\", nums)\n",
        "nums[0]=100             # changes the first element from 1 to 100\n",
        "print(\"List:\", nums)\n",
        "\n",
        "\n",
        "coords = (10, 20)                       # tuples are just like list but the existing elements cannot be deleted or updated, it is immutable meaning it cannot be changed\n",
        "print(\"Tuple:\", coords)\n",
        "\n",
        "unique = {1, 2, 2, 3}                     # a set always contains unique elements, here even though 2 is repeated, the final set has only one 2\n",
        "print(\"Set:\", unique)\n",
        "\n",
        "student = {\"name\":\"Bob\", \"age\":20}        # holds data in key:value format\n",
        "print(\"Dictionary:\", student)\n"
      ],
      "metadata": {
        "colab": {
          "base_uri": "https://localhost:8080/"
        },
        "id": "hQKESkWCiTPl",
        "outputId": "f897947e-ff11-40fe-bc7e-17b35aa24500"
      },
      "execution_count": 15,
      "outputs": [
        {
          "output_type": "stream",
          "name": "stdout",
          "text": [
            "List: [1, 2, 3, 4]\n",
            "List: [100, 2, 3, 4]\n",
            "Tuple: (10, 20)\n",
            "Set: {1, 2, 3}\n",
            "Dictionary: {'name': 'Bob', 'age': 20}\n"
          ]
        }
      ]
    },
    {
      "cell_type": "markdown",
      "source": [
        "## 5. Conditionals\n",
        "Use `if`, `elif`, `else` to control flow.\n"
      ],
      "metadata": {
        "id": "gY6h6Kw0mj0A"
      }
    },
    {
      "cell_type": "code",
      "source": [
        "x = 7\n",
        "if x > 10:\n",
        "    print(\"x is big\")\n",
        "elif x == 7:\n",
        "    print(\"x is seven\")\n",
        "else:\n",
        "    print(\"x is small\")\n"
      ],
      "metadata": {
        "colab": {
          "base_uri": "https://localhost:8080/"
        },
        "id": "Jtn6AxaCkM_S",
        "outputId": "81bf813e-dd7f-40d2-ec11-ab7110161822"
      },
      "execution_count": 16,
      "outputs": [
        {
          "output_type": "stream",
          "name": "stdout",
          "text": [
            "x is seven\n"
          ]
        }
      ]
    },
    {
      "cell_type": "markdown",
      "source": [
        "## 6. Loops\n",
        "Repeat actions using:\n",
        "- `for` loop: iterate over a range or collection\n",
        "- `while` loop: run until condition is False\n",
        "- List comprehension for concise creation\n"
      ],
      "metadata": {
        "id": "yctlvsj5mnbL"
      }
    },
    {
      "cell_type": "code",
      "source": [
        "for i in range(3):\n",
        "    print(\"for loop:\", i)\n",
        "\n",
        "i = 0\n",
        "while i < 2:\n",
        "    print(\"while loop:\", i)\n",
        "    i += 1\n",
        "\n",
        "squares = [i**2 for i in range(5)]\n",
        "print(\"Squares:\", squares)\n"
      ],
      "metadata": {
        "colab": {
          "base_uri": "https://localhost:8080/"
        },
        "id": "3yJqRqkSmmAI",
        "outputId": "c46c2bf8-3a24-45bc-d7a6-99577864282d"
      },
      "execution_count": 17,
      "outputs": [
        {
          "output_type": "stream",
          "name": "stdout",
          "text": [
            "for loop: 0\n",
            "for loop: 1\n",
            "for loop: 2\n",
            "while loop: 0\n",
            "while loop: 1\n",
            "Squares: [0, 1, 4, 9, 16]\n"
          ]
        }
      ]
    },
    {
      "cell_type": "markdown",
      "source": [
        "## 7. Functions\n",
        "Reusable blocks of code defined with `def`.\n",
        "You can set default parameters and return values.\n"
      ],
      "metadata": {
        "id": "OEwfrb0rmzTV"
      }
    },
    {
      "cell_type": "code",
      "source": [
        "def greet(name=\"Student\"):\n",
        "    return f\"Hello, {name}!\"\n",
        "print(greet())\n",
        "print(greet(\"Gagan\"))\n",
        "\n",
        "\n",
        "def add(a, b):\n",
        "  return a+b\n",
        "print(add(1,2))\n"
      ],
      "metadata": {
        "colab": {
          "base_uri": "https://localhost:8080/"
        },
        "id": "0WogQ-KwmrL5",
        "outputId": "e91dadd7-460d-45fc-e03b-50a23fd9457c"
      },
      "execution_count": 21,
      "outputs": [
        {
          "output_type": "stream",
          "name": "stdout",
          "text": [
            "Hello, Student!\n",
            "Hello, Gagan!\n",
            "3\n"
          ]
        }
      ]
    },
    {
      "cell_type": "markdown",
      "source": [
        "📝 Write a function `multiply(a,b)` that returns a*b.\n"
      ],
      "metadata": {
        "id": "XxXriJOYnB_-"
      }
    },
    {
      "cell_type": "code",
      "source": [
        "# write your code here"
      ],
      "metadata": {
        "id": "qGTrOMjHm136"
      },
      "execution_count": 22,
      "outputs": []
    },
    {
      "cell_type": "code",
      "source": [],
      "metadata": {
        "id": "Ycf-Au2_nG3N"
      },
      "execution_count": null,
      "outputs": []
    }
  ]
}