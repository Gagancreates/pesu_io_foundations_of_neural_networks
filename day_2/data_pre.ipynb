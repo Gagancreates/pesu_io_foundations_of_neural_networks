{
 "cells": [
  {
   "cell_type": "markdown",
   "id": "ba41f7ed",
   "metadata": {},
   "source": [
    "# Day 2 – ML Pipeline & Data Preparation (California Housing, NumPy Scaling)\n",
    "\n",
    "In this notebook we will:\n",
    "1. Load the **California Housing** dataset.\n",
    "2. Explore the features and target variable.\n",
    "3. Split the data into an **80/20 Train–Test** split.\n",
    "4. Perform a quick **Exploratory Data Analysis (EDA)**.\n",
    "5. Apply **Min–Max Normalization** to [0,1] **using only NumPy**.\n"
   ]
  },
  {
   "cell_type": "code",
   "execution_count": 2,
   "id": "8973fd2e",
   "metadata": {},
   "outputs": [],
   "source": [
    "import numpy as np\n",
    "import pandas as pd\n",
    "import matplotlib.pyplot as plt\n",
    "\n",
    "from sklearn.datasets import fetch_california_housing\n",
    "from sklearn.model_selection import train_test_split"
   ]
  },
  {
   "cell_type": "markdown",
   "id": "3b825c39",
   "metadata": {},
   "source": [
    "## Step 1 – Load the California Housing dataset\n",
    "Each row describes a California district and the target\n",
    "(`MedHouseVal`) is the median house value (in $100,000s).\n"
   ]
  },
  {
   "cell_type": "code",
   "execution_count": null,
   "id": "3876c169",
   "metadata": {},
   "outputs": [],
   "source": [
    "housing=fetch_california_housing(as_frame=True)\n",
    "X=housing.data\n",
    "y=housing.target\n",
    "\n",
    "print(\"shape of x : \", X.shape)\n",
    "print(\"Shape ofn y:\", y.shape)\n"
   ]
  },
  {
   "cell_type": "code",
   "execution_count": null,
   "id": "afdf5684",
   "metadata": {},
   "outputs": [],
   "source": [
    "cols = ['MedInc', 'AveRooms', 'HouseAge']\n",
    "\n",
    "X=X[cols]\n",
    "X"
   ]
  },
  {
   "cell_type": "markdown",
   "id": "a56bad35",
   "metadata": {},
   "source": [
    "## Step 2 – Train / Test Split (80/20)\n",
    "We'll keep **20%** of the data for testing and use the remaining\n",
    "**80%** for training.\n"
   ]
  },
  {
   "cell_type": "code",
   "execution_count": null,
   "id": "265e23e7",
   "metadata": {},
   "outputs": [],
   "source": [
    "X_train, X_test, y_train, y_test=train_test_split(X, y, test_size=0.2, random_state=42)\n",
    "\n",
    "print(\"X_train shape:\", X_train.shape)\n",
    "print(\"X_test shape:\", X_test.shape)"
   ]
  },
  {
   "cell_type": "markdown",
   "id": "d63de0c1",
   "metadata": {},
   "source": [
    "## Step 3 – Quick Exploratory Data Analysis (EDA)\n",
    "Before preprocessing, let's inspect some summary statistics\n",
    "and check correlations of each feature with the target.\n"
   ]
  },
  {
   "cell_type": "code",
   "execution_count": null,
   "id": "ec96e846",
   "metadata": {},
   "outputs": [],
   "source": [
    "X_train.describe()"
   ]
  },
  {
   "cell_type": "code",
   "execution_count": null,
   "id": "b040cab7",
   "metadata": {},
   "outputs": [],
   "source": [
    "# Visualize the strongest relationship: Median Income vs House Value\n",
    "plt.figure(figsize=(6,6))\n",
    "plt.scatter(X_train[\"MedInc\"], y_train, alpha=0.3)\n",
    "plt.xlabel(\"Median Income (in $10,000s)\")\n",
    "plt.ylabel(\"Median House Value ($100,000s)\")\n",
    "plt.title(\"Median Income vs House Value\")\n",
    "plt.yticks([0, 2,4,6])\n",
    "plt.show()\n"
   ]
  },
  {
   "cell_type": "markdown",
   "id": "00d6e0a2",
   "metadata": {},
   "source": [
    "## Step 4 – Min–Max Normalization with NumPy\n",
    "We scale each feature to the range **[0,1]** using:\n",
    "\n",
    "\\[\n",
    "X_{scaled} = \\frac{X - X_{\\min}}{X_{\\max} - X_{\\min}}\n",
    "\\]\n",
    "\n",
    "We compute the **min** and **max** only from the **training set**\n",
    "to avoid data leakage, then apply the same transformation to both\n",
    "train and test sets.\n"
   ]
  },
  {
   "cell_type": "code",
   "execution_count": 25,
   "id": "d92bad7a",
   "metadata": {},
   "outputs": [],
   "source": [
    "# Convert pandas DataFrame to NumPy arrays for manual scaling\n",
    "X_train_np = X_train.to_numpy()\n",
    "X_test_np  = X_test.to_numpy()\n",
    "\n",
    "# Compute per-column min and max on training data\n",
    "X_min = X_train_np.min(axis=0)\n",
    "X_max = X_train_np.max(axis=0)\n",
    "\n",
    "# Avoid division by zero if a column is constant\n",
    "scale_range = np.where(X_max - X_min == 0, 1, X_max - X_min)\n",
    "\n",
    "# Apply scaling\n",
    "X_train_scaled = (X_train_np - X_min) / scale_range\n",
    "X_test_scaled  = (X_test_np  - X_min) / scale_range\n"
   ]
  },
  {
   "cell_type": "code",
   "execution_count": 35,
   "id": "ec89eac6",
   "metadata": {},
   "outputs": [
    {
     "name": "stdout",
     "output_type": "stream",
     "text": [
      "Scaled Training Data (first 5 rows):\n",
      "\n",
      "         MedInc  AveRooms  HouseAge\n",
      "14196  0.190322  0.029278  0.627451\n",
      "8267   0.228452  0.025419  0.941176\n",
      "17445  0.252162  0.033732  0.058824\n",
      "14265  0.099488  0.022081  0.686275\n",
      "2271   0.210638  0.038147  0.823529\n",
      "\n",
      "Shape: (16512, 3)\n"
     ]
    }
   ],
   "source": [
    "import pandas as pd\n",
    "\n",
    "# Convert back to DataFrame with same columns & index\n",
    "X_train_scaled_df = pd.DataFrame(X_train_scaled,\n",
    "                                 columns=X_train.columns,\n",
    "                                 index=X_train.index)\n",
    "\n",
    "X_test_scaled_df = pd.DataFrame(X_test_scaled,\n",
    "                                columns=X_test.columns,\n",
    "                                index=X_test.index)\n",
    "\n",
    "# Print a preview of the scaled training data\n",
    "print(\"Scaled Training Data (first 5 rows):\\n\")\n",
    "print(X_train_scaled_df.head())\n",
    "\n",
    "# Optional: check the full shape\n",
    "print(\"\\nShape:\", X_train_scaled_df.shape)\n"
   ]
  },
  {
   "cell_type": "code",
   "execution_count": null,
   "id": "729b2bee",
   "metadata": {},
   "outputs": [],
   "source": []
  }
 ],
 "metadata": {
  "kernelspec": {
   "display_name": "Python 3",
   "language": "python",
   "name": "python3"
  },
  "language_info": {
   "codemirror_mode": {
    "name": "ipython",
    "version": 3
   },
   "file_extension": ".py",
   "mimetype": "text/x-python",
   "name": "python",
   "nbconvert_exporter": "python",
   "pygments_lexer": "ipython3",
   "version": "3.12.8"
  }
 },
 "nbformat": 4,
 "nbformat_minor": 5
}
