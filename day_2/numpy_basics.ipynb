{
 "cells": [
  {
   "cell_type": "markdown",
   "id": "54a0dfc3",
   "metadata": {},
   "source": [
    "# NumPy for Machine Learning & Deep Learning\n",
    "## Course Instructor - Gagan P, PESU-IO Slot 20\n",
    "\n",
    "### This workbook contains all the essential codes using NumPy Library\n",
    "\n",
    "NumPy is the **foundation of numerical computing** in Python.  \n",
    "It powers **tensors**, **matrix operations**, and **vectorized math** used in ML/DL.\n"
   ]
  },
  {
   "cell_type": "markdown",
   "id": "a3fd97df",
   "metadata": {},
   "source": [
    "## 1. Importing NumPy & Creating Arrays\n",
    "NumPy arrays (`ndarray`) are like Python lists but faster and more efficient for numerical operations.\n",
    "\n",
    "Ways to create arrays:\n",
    "- From Python lists\n",
    "- Using built-in functions (`arange`, `linspace`, `zeros`, `ones`, `eye`, `random`)\n"
   ]
  },
  {
   "cell_type": "code",
   "execution_count": null,
   "id": "7af9fa83",
   "metadata": {},
   "outputs": [],
   "source": [
    "import numpy as np\n",
    "\n",
    "# From Python list\n",
    "arr = np.array([1, 2, 3, 4])            # Converts python list to NumPy array\n",
    "print(\"Array from list:\", arr)\n",
    "\n",
    "# Range of numbers\n",
    "print(\"Arange 0-9:\", np.arange(10))      # like Python range, but returns array\n",
    "\n",
    "# Matrices(Multi-Dimensional Arrays) in NumPy\n",
    "matrix=np.array([[1,2,3], [4,5,6], [7,8, 9]])          # each element is a row, it has 3 arrays and each array has 3 elements, so the shape is (3,3)\n",
    "                                                       #shape is the size of the matrix in the form (m, n)  (m rows, n columns) \n",
    "print(matrix)\n",
    "\n",
    "print(\"Matrix: \", np.random.rand(3,2))      # .random.rand generates a random number,\n",
    "                                            # (3,3) is the shape of the matrix, with m rows(here 3) and n columns( here 2)\n",
    "\n",
    "\n",
    "\n",
    "\n",
    "# Zeros/Ones/Identity\n",
    "print(\"Zeros:\", np.zeros((2, 3)))        # 2x3 matrix of zeros\n",
    "print(\"Ones:\", np.ones((3, 3)))          # 3x3 matrix of ones\n",
    "print(\"Identity:\", np.eye(3))            # 3x3 identity matrix\n",
    "\n",
    "# Random numbers\n",
    "print(\"Random [0,1):\", np.random.rand(2, 3))     # uniform distribution and the numbers lie from 0 to 1\n",
    "print(\"Random normal:\", np.random.randn(2, 3))   # normal distribution, the numbers have mean=0 and variance=1\n",
    "print(\"Random integers:\", np.random.randint(1, 10, (2, 3)))  # random ints 1: Lower bound (inclusive),  10: Upper bound (exclusive), (2, 3): Shape as a tuple\n"
   ]
  },
  {
   "cell_type": "markdown",
   "id": "39ddb15f",
   "metadata": {},
   "source": [
    "Notice How each time .random generates different numbers"
   ]
  },
  {
   "cell_type": "markdown",
   "id": "4a043f0d",
   "metadata": {},
   "source": [
    "### To keep the random numbers constant everytime, we use `np.random.seed`"
   ]
  },
  {
   "cell_type": "code",
   "execution_count": null,
   "id": "fdef4b95",
   "metadata": {},
   "outputs": [],
   "source": [
    "np.random.seed(42)\n",
    "\n",
    "matrix=np.random.rand(3,3)\n",
    "matrix\n",
    "# Notice how it generates the same set of random numbers\n"
   ]
  },
  {
   "cell_type": "markdown",
   "id": "dadef2c5",
   "metadata": {},
   "source": [
    "## 2. Array Attributes\n",
    "Every NumPy array has properties to inspect:\n",
    "- `shape`: dimensions (rows, columns)\n",
    "- `ndim`: number of dimensions\n",
    "- `size`: total number of elements\n",
    "- `dtype`: data type\n"
   ]
  },
  {
   "cell_type": "code",
   "execution_count": null,
   "id": "2b22b907",
   "metadata": {},
   "outputs": [],
   "source": [
    "a = np.random.randint(0, 10, (3, 4))\n",
    "print(\"Array:\\n\", a)\n",
    "print(\"Shape:\", a.shape)   # rows x columns\n",
    "print(\"Dimensions:\", a.ndim)\n",
    "print(\"Total elements:\", a.size)\n",
    "print(\"Data type:\", a.dtype)\n"
   ]
  },
  {
   "cell_type": "markdown",
   "id": "24f8ebc8",
   "metadata": {},
   "source": [
    "## 3. Indexing & Slicing\n",
    "Similar to Python lists but more powerful:\n",
    "- Single element: `arr[row, col]`\n",
    "- Slicing rows/cols\n",
    "- Boolean indexing\n",
    "- Fancy indexing\n"
   ]
  },
  {
   "cell_type": "code",
   "execution_count": null,
   "id": "dd6a5101",
   "metadata": {},
   "outputs": [],
   "source": [
    "arr = np.arange(1, 13).reshape(3, 4)\n",
    "print(\"Array:\\n\", arr)\n",
    "\n",
    "# Single element\n",
    "print(\"Element at row1,col2:\", arr[0, 1])\n",
    "\n",
    "# Row slice\n",
    "print(\"First row:\", arr[0, :])\n",
    "\n",
    "# Column slice\n",
    "print(\"First column:\", arr[:, 0])\n",
    "\n",
    "# Sub-matrix\n",
    "print(\"Rows 1-2, Cols 2-3:\\n\", arr[0:2, 1:3])\n",
    "\n",
    "# Boolean indexing\n",
    "print(\"Elements > 5:\", arr[arr > 5])\n",
    "\n",
    "# Fancy indexing (pick specific rows/cols)\n",
    "print(\"Rows 0 & 2:\\n\", arr[[0, 2]])\n",
    "\n",
    "print(\"Columns 0 and 2\\n\", arr[:, [0,2]])\n"
   ]
  },
  {
   "cell_type": "markdown",
   "id": "f617a7ac",
   "metadata": {},
   "source": [
    "## 4. Elementwise Operations\n",
    "NumPy allows vectorized math without loops.\n",
    "This is critical for ML (matrix operations, gradients, etc.).\n"
   ]
  },
  {
   "cell_type": "code",
   "execution_count": null,
   "id": "bd62cd33",
   "metadata": {},
   "outputs": [],
   "source": [
    "x = np.array([1, 2, 3])\n",
    "y = np.array([4, 5, 6])\n",
    "\n",
    "# Elementwise math\n",
    "print(\"Addition:\", x + y)\n",
    "print(\"Multiplication:\", x * y)\n",
    "print(\"Power:\", x ** 2)\n",
    "\n",
    "# Universal functions (ufuncs)\n",
    "print(\"Sqrt:\", np.sqrt(x))\n",
    "print(\"Exp:\", np.exp(x))\n",
    "print(\"Log:\", np.log(x))\n"
   ]
  },
  {
   "cell_type": "markdown",
   "id": "9d2c921b",
   "metadata": {},
   "source": [
    "## 6. Reshaping\n",
    "Reshaping is common when preparing input for ML models.\n",
    "- `reshape`: change shape without changing data\n",
    "- `ravel`/`flatten`: 1D view of array\n",
    "- `transpose` / `T`: swap rows/columns\n"
   ]
  },
  {
   "cell_type": "code",
   "execution_count": null,
   "id": "c3ea970c",
   "metadata": {},
   "outputs": [],
   "source": [
    "matrix=np.arange(12)\n",
    "print(matrix)\n",
    "print(\"after reshaping:\\n\")\n",
    "matrix_new=np.reshape(matrix,  (3,4))      # here the the total elements should match or else you will get error\n",
    "print(matrix_new)\n",
    "\n",
    "matrix_new=matrix_new.T   # arr.T transposes the matrix, rows become column and vice-versa (m,n)->(n, m)\n",
    "print(matrix_new)\n",
    "\n",
    "print(matrix_new.flatten())      #flatten the matrix"
   ]
  },
  {
   "cell_type": "markdown",
   "id": "a5325a79",
   "metadata": {},
   "source": [
    "## 8. Aggregations\n",
    "Used for computing dataset statistics (mean, variance, etc.).\n"
   ]
  },
  {
   "cell_type": "code",
   "execution_count": null,
   "id": "4e9c2501",
   "metadata": {},
   "outputs": [],
   "source": [
    "data = np.random.randint(1, 100, (5, 4))\n",
    "print(\"Data:\\n\", data)\n",
    "print(\"Mean:\", data.mean())\n",
    "print(\"Std deviation:\", data.std())\n",
    "print(\"Min:\", data.min())\n",
    "print(\"Max:\", data.max())\n",
    "print(\"Column-wise mean:\", data.mean(axis=0))\n",
    "print(\"Row-wise sum:\", data.sum(axis=1))\n"
   ]
  },
  {
   "cell_type": "markdown",
   "id": "de4c9b9b",
   "metadata": {},
   "source": [
    "## 9. Linear Algebra\n",
    "NumPy powers matrix math needed for ML/DL:\n",
    "- Dot product\n",
    "- Matrix multiplication\n",
    "- Inverse & determinant\n",
    "- Eigenvalues/vectors\n"
   ]
  },
  {
   "cell_type": "code",
   "execution_count": null,
   "id": "0ec60f1c",
   "metadata": {},
   "outputs": [],
   "source": [
    "arr1=np.array([1,2,3])\n",
    "arr2=np.array([4,5,6])\n",
    "\n",
    "print(arr1+arr2)                 #adds each element from same position from each array\n",
    "print(np.dot(arr1, arr2))        # here it will be 1*4 + 2*5 + 3*6\n",
    "\n",
    "\n",
    "\n",
    "A = np.array([[1, 2], [3, 4]])            \n",
    "B = np.array([[2, 0], [1, 2]])\n",
    "\n",
    "print(\"Dot product:\", np.dot(A, B))       # matrix multiplication\n",
    "print(\"Matrix product (@):\", A @ B)       #another method for matrix multiplication\n",
    "\n",
    "# Inverse & determinant\n",
    "print(\"Determinant:\", np.linalg.det(A))\n",
    "print(\"Inverse:\\n\", np.linalg.inv(A))\n",
    "\n",
    "\n"
   ]
  },
  {
   "cell_type": "markdown",
   "id": "a5677a26",
   "metadata": {},
   "source": [
    "# Practice Zone\n",
    "Try these small tasks:\n",
    "1. Create a 5x5 array with values 0–24 and extract the center 3x3 submatrix.\n",
    "2. Generate 100 random numbers and compute their mean and std deviation.\n",
    "3. Create a 3x3 identity matrix and multiply it with a random 3x3 matrix.\n",
    "4. Reshape a 1D array of 16 numbers into a 4x4 matrix and compute row-wise sums.\n",
    "5. Simulate a simple dataset: create 10 samples with 3 features each using `np.random.randn`.\n"
   ]
  },
  {
   "cell_type": "code",
   "execution_count": null,
   "id": "b52b81f1",
   "metadata": {},
   "outputs": [],
   "source": [
    "# Your Code Here"
   ]
  },
  {
   "cell_type": "code",
   "execution_count": null,
   "id": "f783425a",
   "metadata": {},
   "outputs": [],
   "source": []
  }
 ],
 "metadata": {
  "kernelspec": {
   "display_name": "Python 3",
   "language": "python",
   "name": "python3"
  },
  "language_info": {
   "codemirror_mode": {
    "name": "ipython",
    "version": 3
   },
   "file_extension": ".py",
   "mimetype": "text/x-python",
   "name": "python",
   "nbconvert_exporter": "python",
   "pygments_lexer": "ipython3",
   "version": "3.12.8"
  }
 },
 "nbformat": 4,
 "nbformat_minor": 5
}
