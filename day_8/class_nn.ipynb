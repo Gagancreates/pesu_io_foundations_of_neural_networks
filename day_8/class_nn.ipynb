{
  "nbformat": 4,
  "nbformat_minor": 0,
  "metadata": {
    "colab": {
      "provenance": []
    },
    "kernelspec": {
      "name": "python3",
      "display_name": "Python 3"
    },
    "language_info": {
      "name": "python"
    }
  },
  "cells": [
    {
      "cell_type": "code",
      "execution_count": null,
      "metadata": {
        "colab": {
          "base_uri": "https://localhost:8080/",
          "height": 73
        },
        "id": "vLIBw6_nTr-p",
        "outputId": "f51e3f6e-efc6-4f38-9a21-78640f2a10fd"
      },
      "outputs": [
        {
          "output_type": "display_data",
          "data": {
            "text/plain": [
              "<IPython.core.display.HTML object>"
            ],
            "text/html": [
              "\n",
              "     <input type=\"file\" id=\"files-f5d5910b-91c0-45d5-a591-527255ecb60d\" name=\"files[]\" multiple disabled\n",
              "        style=\"border:none\" />\n",
              "     <output id=\"result-f5d5910b-91c0-45d5-a591-527255ecb60d\">\n",
              "      Upload widget is only available when the cell has been executed in the\n",
              "      current browser session. Please rerun this cell to enable.\n",
              "      </output>\n",
              "      <script>// Copyright 2017 Google LLC\n",
              "//\n",
              "// Licensed under the Apache License, Version 2.0 (the \"License\");\n",
              "// you may not use this file except in compliance with the License.\n",
              "// You may obtain a copy of the License at\n",
              "//\n",
              "//      http://www.apache.org/licenses/LICENSE-2.0\n",
              "//\n",
              "// Unless required by applicable law or agreed to in writing, software\n",
              "// distributed under the License is distributed on an \"AS IS\" BASIS,\n",
              "// WITHOUT WARRANTIES OR CONDITIONS OF ANY KIND, either express or implied.\n",
              "// See the License for the specific language governing permissions and\n",
              "// limitations under the License.\n",
              "\n",
              "/**\n",
              " * @fileoverview Helpers for google.colab Python module.\n",
              " */\n",
              "(function(scope) {\n",
              "function span(text, styleAttributes = {}) {\n",
              "  const element = document.createElement('span');\n",
              "  element.textContent = text;\n",
              "  for (const key of Object.keys(styleAttributes)) {\n",
              "    element.style[key] = styleAttributes[key];\n",
              "  }\n",
              "  return element;\n",
              "}\n",
              "\n",
              "// Max number of bytes which will be uploaded at a time.\n",
              "const MAX_PAYLOAD_SIZE = 100 * 1024;\n",
              "\n",
              "function _uploadFiles(inputId, outputId) {\n",
              "  const steps = uploadFilesStep(inputId, outputId);\n",
              "  const outputElement = document.getElementById(outputId);\n",
              "  // Cache steps on the outputElement to make it available for the next call\n",
              "  // to uploadFilesContinue from Python.\n",
              "  outputElement.steps = steps;\n",
              "\n",
              "  return _uploadFilesContinue(outputId);\n",
              "}\n",
              "\n",
              "// This is roughly an async generator (not supported in the browser yet),\n",
              "// where there are multiple asynchronous steps and the Python side is going\n",
              "// to poll for completion of each step.\n",
              "// This uses a Promise to block the python side on completion of each step,\n",
              "// then passes the result of the previous step as the input to the next step.\n",
              "function _uploadFilesContinue(outputId) {\n",
              "  const outputElement = document.getElementById(outputId);\n",
              "  const steps = outputElement.steps;\n",
              "\n",
              "  const next = steps.next(outputElement.lastPromiseValue);\n",
              "  return Promise.resolve(next.value.promise).then((value) => {\n",
              "    // Cache the last promise value to make it available to the next\n",
              "    // step of the generator.\n",
              "    outputElement.lastPromiseValue = value;\n",
              "    return next.value.response;\n",
              "  });\n",
              "}\n",
              "\n",
              "/**\n",
              " * Generator function which is called between each async step of the upload\n",
              " * process.\n",
              " * @param {string} inputId Element ID of the input file picker element.\n",
              " * @param {string} outputId Element ID of the output display.\n",
              " * @return {!Iterable<!Object>} Iterable of next steps.\n",
              " */\n",
              "function* uploadFilesStep(inputId, outputId) {\n",
              "  const inputElement = document.getElementById(inputId);\n",
              "  inputElement.disabled = false;\n",
              "\n",
              "  const outputElement = document.getElementById(outputId);\n",
              "  outputElement.innerHTML = '';\n",
              "\n",
              "  const pickedPromise = new Promise((resolve) => {\n",
              "    inputElement.addEventListener('change', (e) => {\n",
              "      resolve(e.target.files);\n",
              "    });\n",
              "  });\n",
              "\n",
              "  const cancel = document.createElement('button');\n",
              "  inputElement.parentElement.appendChild(cancel);\n",
              "  cancel.textContent = 'Cancel upload';\n",
              "  const cancelPromise = new Promise((resolve) => {\n",
              "    cancel.onclick = () => {\n",
              "      resolve(null);\n",
              "    };\n",
              "  });\n",
              "\n",
              "  // Wait for the user to pick the files.\n",
              "  const files = yield {\n",
              "    promise: Promise.race([pickedPromise, cancelPromise]),\n",
              "    response: {\n",
              "      action: 'starting',\n",
              "    }\n",
              "  };\n",
              "\n",
              "  cancel.remove();\n",
              "\n",
              "  // Disable the input element since further picks are not allowed.\n",
              "  inputElement.disabled = true;\n",
              "\n",
              "  if (!files) {\n",
              "    return {\n",
              "      response: {\n",
              "        action: 'complete',\n",
              "      }\n",
              "    };\n",
              "  }\n",
              "\n",
              "  for (const file of files) {\n",
              "    const li = document.createElement('li');\n",
              "    li.append(span(file.name, {fontWeight: 'bold'}));\n",
              "    li.append(span(\n",
              "        `(${file.type || 'n/a'}) - ${file.size} bytes, ` +\n",
              "        `last modified: ${\n",
              "            file.lastModifiedDate ? file.lastModifiedDate.toLocaleDateString() :\n",
              "                                    'n/a'} - `));\n",
              "    const percent = span('0% done');\n",
              "    li.appendChild(percent);\n",
              "\n",
              "    outputElement.appendChild(li);\n",
              "\n",
              "    const fileDataPromise = new Promise((resolve) => {\n",
              "      const reader = new FileReader();\n",
              "      reader.onload = (e) => {\n",
              "        resolve(e.target.result);\n",
              "      };\n",
              "      reader.readAsArrayBuffer(file);\n",
              "    });\n",
              "    // Wait for the data to be ready.\n",
              "    let fileData = yield {\n",
              "      promise: fileDataPromise,\n",
              "      response: {\n",
              "        action: 'continue',\n",
              "      }\n",
              "    };\n",
              "\n",
              "    // Use a chunked sending to avoid message size limits. See b/62115660.\n",
              "    let position = 0;\n",
              "    do {\n",
              "      const length = Math.min(fileData.byteLength - position, MAX_PAYLOAD_SIZE);\n",
              "      const chunk = new Uint8Array(fileData, position, length);\n",
              "      position += length;\n",
              "\n",
              "      const base64 = btoa(String.fromCharCode.apply(null, chunk));\n",
              "      yield {\n",
              "        response: {\n",
              "          action: 'append',\n",
              "          file: file.name,\n",
              "          data: base64,\n",
              "        },\n",
              "      };\n",
              "\n",
              "      let percentDone = fileData.byteLength === 0 ?\n",
              "          100 :\n",
              "          Math.round((position / fileData.byteLength) * 100);\n",
              "      percent.textContent = `${percentDone}% done`;\n",
              "\n",
              "    } while (position < fileData.byteLength);\n",
              "  }\n",
              "\n",
              "  // All done.\n",
              "  yield {\n",
              "    response: {\n",
              "      action: 'complete',\n",
              "    }\n",
              "  };\n",
              "}\n",
              "\n",
              "scope.google = scope.google || {};\n",
              "scope.google.colab = scope.google.colab || {};\n",
              "scope.google.colab._files = {\n",
              "  _uploadFiles,\n",
              "  _uploadFilesContinue,\n",
              "};\n",
              "})(self);\n",
              "</script> "
            ]
          },
          "metadata": {}
        },
        {
          "output_type": "stream",
          "name": "stdout",
          "text": [
            "Saving train.csv to train.csv\n"
          ]
        }
      ],
      "source": [
        "from google.colab import files\n",
        "uploaded = files.upload()\n"
      ]
    },
    {
      "cell_type": "code",
      "source": [
        "import pandas as pd\n",
        "import numpy as np\n",
        "import matplotlib.pyplot as plt\n",
        "data = pd.read_csv('train.csv')\n",
        "print(data.head())\n"
      ],
      "metadata": {
        "colab": {
          "base_uri": "https://localhost:8080/"
        },
        "id": "DHxCj4JVTtnw",
        "outputId": "42f9d33e-b56f-46db-8221-32774c2e8bb5"
      },
      "execution_count": 65,
      "outputs": [
        {
          "output_type": "stream",
          "name": "stdout",
          "text": [
            "   label  pixel0  pixel1  pixel2  pixel3  pixel4  pixel5  pixel6  pixel7  \\\n",
            "0      1       0       0       0       0       0       0       0       0   \n",
            "1      0       0       0       0       0       0       0       0       0   \n",
            "2      1       0       0       0       0       0       0       0       0   \n",
            "3      4       0       0       0       0       0       0       0       0   \n",
            "4      0       0       0       0       0       0       0       0       0   \n",
            "\n",
            "   pixel8  ...  pixel774  pixel775  pixel776  pixel777  pixel778  pixel779  \\\n",
            "0       0  ...         0         0         0         0         0         0   \n",
            "1       0  ...         0         0         0         0         0         0   \n",
            "2       0  ...         0         0         0         0         0         0   \n",
            "3       0  ...         0         0         0         0         0         0   \n",
            "4       0  ...         0         0         0         0         0         0   \n",
            "\n",
            "   pixel780  pixel781  pixel782  pixel783  \n",
            "0         0         0         0         0  \n",
            "1         0         0         0         0  \n",
            "2         0         0         0         0  \n",
            "3         0         0         0         0  \n",
            "4         0         0         0         0  \n",
            "\n",
            "[5 rows x 785 columns]\n"
          ]
        }
      ]
    },
    {
      "cell_type": "code",
      "source": [
        "data=np.array(data)\n",
        "m,n =data.shape\n",
        "np.random.seed(42)\n",
        "np.random.shuffle(data)\n",
        "\n",
        "data_train=data[0:33600]\n",
        "X_train=data_train[:,1:].astype(np.float32)\n",
        "Y_train=data_train[:,0]\n",
        "X_train/=255.\n",
        "\n",
        "data_test=data[33600:m]\n",
        "X_test=data_test[:, 1:].astype(np.float32)\n",
        "Y_test=data_test[:,0]\n",
        "X_test/=255."
      ],
      "metadata": {
        "id": "MSIlyT_WWUyI"
      },
      "execution_count": 66,
      "outputs": []
    },
    {
      "cell_type": "code",
      "source": [
        "# all activations + normal functions\n",
        "def relu(x):\n",
        "  return np.maximum(0, x)\n",
        "\n",
        "def relu_der(x):\n",
        "  return (x>0)\n",
        "def softmax(x):\n",
        "  e=np.exp(x-np.max(x, axis=1, keepdims=True))\n",
        "  return e/np.sum(e, axis=1, keepdims=True)\n",
        "\n",
        "def init_params():\n",
        "    np.random.seed(42)\n",
        "\n",
        "    w1=np.random.rand(784, 16)\n",
        "    b1=np.random.rand(1, 16)\n",
        "    w2=np.random.rand(16,10)\n",
        "    b2=np.random.rand(1, 10)\n",
        "    return w1, b1, w2, b2\n",
        "\n",
        "def forward_pass(X, w1, b1, w2, b2):\n",
        "    z1=np.dot(X, w1) +b1\n",
        "    a1=relu(z1)\n",
        "    z2=np.dot(a1, w2) + b2\n",
        "    y=softmax(z2)\n",
        "    return y\n",
        "\n",
        "def onehot(Y, num_classes=10):\n",
        "  m=Y.shape[0]\n",
        "  onehot=np.zeros((m, num_classes))\n",
        "  onehot[np.arange(m), Y]=1\n",
        "  return onehot\n",
        "\n",
        "\n"
      ],
      "metadata": {
        "id": "QrEwAgL5Y2BG"
      },
      "execution_count": 67,
      "outputs": []
    },
    {
      "cell_type": "code",
      "source": [
        "Y_onehot=onehot(Y_train)"
      ],
      "metadata": {
        "id": "BHNpsC39bdxo"
      },
      "execution_count": 68,
      "outputs": []
    },
    {
      "cell_type": "code",
      "source": [
        "def train_model():\n",
        "  epochs=2000\n",
        "  alpha=0.1\n",
        "\n",
        "  w1, b1, w2, b2=init_params()\n",
        "\n",
        "  for i in range(epochs):\n",
        "        z1=np.dot(X_train, w1)+ b1\n",
        "        a1=relu(z1)\n",
        "        z2=np.dot(a1, w2)+ b2\n",
        "        y=softmax(z2)\n",
        "\n",
        "        pred=np.argmax(y, axis=1)\n",
        "        labels=np.argmax(Y_onehot, axis=1)\n",
        "        acc=np.mean(pred==labels)\n",
        "        loss = -(1/m) * np.sum(Y_onehot * np.log(y + 1e-8))\n",
        "\n",
        "        dz2=y-Y_onehot\n",
        "        dw2=(1/m)*np.dot( a1.T, dz2)\n",
        "        db2=(1/m)*np.sum(dz2, axis=0, keepdims=True)\n",
        "        dz1=relu_der(z1)*np.dot(dz2, w2.T)\n",
        "        dw1=(1/m)*np.dot(X_train.T, dz1)\n",
        "        db1=(1/m)*np.sum(dz1, axis=0, keepdims=True)\n",
        "\n",
        "\n",
        "\n",
        "        w1-= alpha*dw1\n",
        "        b1-= alpha*db1\n",
        "        w2-= alpha*dw2\n",
        "        b2-= alpha*db2\n",
        "\n",
        "\n",
        "        if(i%100==0):\n",
        "            print(f\"epoch {i}:\\n loss: {loss:.4f}\\n accuracy: {acc:.4f}\")\n",
        "  return w1, w2, b1, b2\n",
        "\n",
        "w1, w2, b1, b2=train_model()"
      ],
      "metadata": {
        "colab": {
          "base_uri": "https://localhost:8080/"
        },
        "id": "v5FjXKBXdLL1",
        "outputId": "ec2246e5-f459-4d68-c0be-0db7279a2bfe"
      },
      "execution_count": 70,
      "outputs": [
        {
          "output_type": "stream",
          "name": "stdout",
          "text": [
            "epoch 0:\n",
            " loss: 13.2807\n",
            " accuracy: 0.0968\n",
            "epoch 100:\n",
            " loss: 1.5454\n",
            " accuracy: 0.3489\n",
            "epoch 200:\n",
            " loss: 1.1705\n",
            " accuracy: 0.5375\n",
            "epoch 300:\n",
            " loss: 0.8602\n",
            " accuracy: 0.6669\n",
            "epoch 400:\n",
            " loss: 0.6488\n",
            " accuracy: 0.7456\n",
            "epoch 500:\n",
            " loss: 0.5463\n",
            " accuracy: 0.7830\n",
            "epoch 600:\n",
            " loss: 0.4852\n",
            " accuracy: 0.8091\n",
            "epoch 700:\n",
            " loss: 0.4456\n",
            " accuracy: 0.8262\n",
            "epoch 800:\n",
            " loss: 0.4171\n",
            " accuracy: 0.8384\n",
            "epoch 900:\n",
            " loss: 0.3949\n",
            " accuracy: 0.8476\n",
            "epoch 1000:\n",
            " loss: 0.3770\n",
            " accuracy: 0.8553\n",
            "epoch 1100:\n",
            " loss: 0.3621\n",
            " accuracy: 0.8621\n",
            "epoch 1200:\n",
            " loss: 0.3496\n",
            " accuracy: 0.8674\n",
            "epoch 1300:\n",
            " loss: 0.3390\n",
            " accuracy: 0.8715\n",
            "epoch 1400:\n",
            " loss: 0.3297\n",
            " accuracy: 0.8752\n",
            "epoch 1500:\n",
            " loss: 0.3215\n",
            " accuracy: 0.8782\n",
            "epoch 1600:\n",
            " loss: 0.3141\n",
            " accuracy: 0.8814\n",
            "epoch 1700:\n",
            " loss: 0.3075\n",
            " accuracy: 0.8835\n",
            "epoch 1800:\n",
            " loss: 0.3015\n",
            " accuracy: 0.8858\n",
            "epoch 1900:\n",
            " loss: 0.2960\n",
            " accuracy: 0.8880\n"
          ]
        }
      ]
    },
    {
      "cell_type": "code",
      "source": [
        "def predict(X, w1, b1, w2, b2):\n",
        "    y = forward_pass(X, w1, b1, w2, b2)\n",
        "    preds = np.argmax(y, axis=1)\n",
        "    return preds\n",
        "\n",
        "def test_prediction(index, X, Y, w1, b1, w2, b2):\n",
        "    x_input = X[index].reshape(1, -1)  # (1, 784)\n",
        "    y_true = Y[index]\n",
        "\n",
        "    pred = predict(x_input, w1, b1, w2, b2)[0]  # single number\n",
        "\n",
        "    print(f\"Prediction: {pred}\")\n",
        "    print(f\"Actual Label: {y_true}\")\n",
        "\n",
        "    # Reshape back to image\n",
        "    img = x_input.reshape(28, 28)\n",
        "    plt.imshow(img, cmap='gray')\n",
        "    plt.title(f\"Predicted: {pred} | Actual: {y_true}\")\n",
        "    plt.axis('off')\n",
        "    plt.show()"
      ],
      "metadata": {
        "id": "5HHmA3GSg_uN"
      },
      "execution_count": 73,
      "outputs": []
    },
    {
      "cell_type": "code",
      "source": [
        "test_prediction(89, X_test,  Y_test, w1, b1, w2, b2)"
      ],
      "metadata": {
        "id": "xtAYj37_hc7I",
        "colab": {
          "base_uri": "https://localhost:8080/",
          "height": 463
        },
        "outputId": "10486c21-423b-4a8c-ed29-ee3730d6ebdf"
      },
      "execution_count": 97,
      "outputs": [
        {
          "output_type": "stream",
          "name": "stdout",
          "text": [
            "Prediction: 9\n",
            "Actual Label: 9\n"
          ]
        },
        {
          "output_type": "display_data",
          "data": {
            "text/plain": [
              "<Figure size 640x480 with 1 Axes>"
            ],
            "image/png": "[encoded data removed]"
          },
          "metadata": {}
        }
      ]
    },
    {
      "cell_type": "code",
      "source": [],
      "metadata": {
        "id": "y86iyMKMrWKV"
      },
      "execution_count": null,
      "outputs": []
    }
  ]
}