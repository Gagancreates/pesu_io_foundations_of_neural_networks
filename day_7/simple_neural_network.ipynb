{
 "cells": [
  {
   "cell_type": "code",
   "execution_count": 1,
   "id": "95db9d20",
   "metadata": {},
   "outputs": [],
   "source": [
    "import numpy as np\n"
   ]
  },
  {
   "cell_type": "code",
   "execution_count": 2,
   "id": "3a5b22a5",
   "metadata": {},
   "outputs": [],
   "source": [
    "def sigmoid(x):\n",
    "    return 1/(1+np.exp(x))"
   ]
  },
  {
   "cell_type": "code",
   "execution_count": 3,
   "id": "1f180f8b",
   "metadata": {},
   "outputs": [],
   "source": [
    "class Neuron:\n",
    "    def __init__(self, weights, bias):\n",
    "        self.weights=weights\n",
    "        self.bias=bias\n",
    "\n",
    "    def feedforward(self, input):\n",
    "        out=np.dot(self.weights, input) + self.bias\n",
    "        return sigmoid(out)\n",
    "    "
   ]
  },
  {
   "cell_type": "code",
   "execution_count": 4,
   "id": "8d19f402",
   "metadata": {},
   "outputs": [
    {
     "name": "stdout",
     "output_type": "stream",
     "text": [
      "3.059022269256247e-07\n"
     ]
    }
   ],
   "source": [
    "w=np.array([1,2])\n",
    "b=2\n",
    "neuron1=Neuron(w, b)\n",
    "x=np.array([3, 5])\n",
    "final=neuron1.feedforward(x)\n",
    "print(final)"
   ]
  },
  {
   "cell_type": "code",
   "execution_count": 5,
   "id": "f90af021",
   "metadata": {},
   "outputs": [
    {
     "name": "stdout",
     "output_type": "stream",
     "text": [
      "a1: \n",
      " [1.35379523e-05 1.26048177e-03 9.26136021e-10 2.61190319e-04]\n",
      "1.0\n"
     ]
    }
   ],
   "source": [
    "#lets now code up a 3 layer feedforward neural network\n",
    "#the first layer is the input layer having 3 neurons\n",
    "# the 2nd layer is the output layer having 4 neurons\n",
    "# and the 3rd layer is the output layer having 1 neuron activated by softmax function\n",
    "# here w11 means weight of the first neuron for first layer, w12 means weight of the second neuron for first layer, etc..\n",
    "\n",
    "def softmax(x):\n",
    "    return np.exp(x)/(np.sum(np.exp(x)))\n",
    "\n",
    "x=np.array([1.0, 2.0, -2.5])\n",
    "w1=np.array([[2.0, 1.2, 3.2, 2.45], [2.23, 3.10, 3.30, 4.5], [-0.98, 2.09, -3.2, 0.8]])\n",
    "b1=np.array([2.3, 4.5, 3.0, -1.2])\n",
    "a1=sigmoid(np.dot(x, w1)+b1)\n",
    "print(\"a1: \\n\",a1)\n",
    "\n",
    "w2=np.array([1.2, -0.90, 0.3, 2.0])\n",
    "b2=3.22\n",
    "a2=softmax(np.dot(w2, a1)+b2)\n",
    "print(a2)"
   ]
  },
  {
   "cell_type": "code",
   "execution_count": 6,
   "id": "4bfd0a5c",
   "metadata": {},
   "outputs": [],
   "source": [
    "# class nnetwork:\n",
    "#     def __init__(self):\n",
    "#         w1=np.array([[2.0, 1.2, 3.2, 2.45], [2.23, 3.10, 3.30, 4.5], [-0.98, 2.09, -3.2, 0.8]])\n",
    "#         b1=np.array([2.3, 4.5, 3.0, -1.2])\n",
    "#         w2=np.array([1.2, -0.90, 0.3, 2.0])\n",
    "#         b2=3.22\n",
    "#         self.layer1=Neuron(w1, b1)\n",
    "#         self.layer2=Neuron(w2, b2)\n",
    "    \n",
    "#     def feedforward(self, x):\n",
    "#         a1=self.layer1."
   ]
  },
  {
   "attachments": {
    "image.png": {
     "image/png": "[encoded data removed]"
    }
   },
   "cell_type": "markdown",
   "id": "10001740",
   "metadata": {},
   "source": [
    "Let’s train our network to predict someone’s gender given their weight and height:\n",
    "![image.png](attachment:image.png)\n"
   ]
  },
  {
   "cell_type": "markdown",
   "id": "94183f6d",
   "metadata": {},
   "source": []
  },
  {
   "cell_type": "code",
   "execution_count": 7,
   "id": "f7cf45c3",
   "metadata": {},
   "outputs": [],
   "source": [
    "weight=np.array([133, 160, 152, 120])\n",
    "height=np.array([65, 72, 70, 60])\n",
    "# normalising the input from a central number\n",
    "\n",
    "weight-=133\n",
    "height-=65"
   ]
  },
  {
   "cell_type": "code",
   "execution_count": 8,
   "id": "c8263e46",
   "metadata": {},
   "outputs": [
    {
     "name": "stdout",
     "output_type": "stream",
     "text": [
      "[[  0   0]\n",
      " [ 27   7]\n",
      " [ 19   5]\n",
      " [-13  -5]]\n"
     ]
    }
   ],
   "source": [
    "x=np.array([weight, height])\n",
    "x=x.T\n",
    "#male is 1 and female is 0\n",
    "y_true=np.array([0,1,1,0])\n",
    "print(x)"
   ]
  },
  {
   "cell_type": "code",
   "execution_count": 9,
   "id": "69e04f24",
   "metadata": {},
   "outputs": [
    {
     "name": "stdout",
     "output_type": "stream",
     "text": [
      "(4, 2)\n"
     ]
    }
   ],
   "source": [
    "#hidden layer\n",
    "np.random.seed(42)\n",
    "w1=np.random.rand(2, 2)\n",
    "b1=np.random.rand( 1, 2)\n",
    "a1 = sigmoid(np.dot(x, w1.T) + b1)\n",
    "print(a1.shape)"
   ]
  },
  {
   "cell_type": "code",
   "execution_count": 10,
   "id": "14ed0790",
   "metadata": {},
   "outputs": [
    {
     "name": "stdout",
     "output_type": "stream",
     "text": [
      "[0.22119174 0.34351061 0.34351009 0.12207668]\n"
     ]
    }
   ],
   "source": [
    "#output layer\n",
    "np.random.seed(42)\n",
    "w2=np.random.rand(2, 1)\n",
    "b2=np.random.normal()\n",
    "y_pred=sigmoid(np.dot(a1, w2)+b2)\n",
    "print(y_pred.flatten())"
   ]
  },
  {
   "cell_type": "code",
   "execution_count": 11,
   "id": "83cb8bbe",
   "metadata": {},
   "outputs": [],
   "source": [
    "def mse_loss(y_true, y_pred):\n",
    "  # y_true and y_pred are numpy arrays of the same length.\n",
    "  return ((y_true - y_pred) ** 2).mean()\n",
    "\n",
    "def sigmoid_derivative(x):\n",
    "  fx=sigmoid(x)\n",
    "  return fx*(1-fx)"
   ]
  },
  {
   "cell_type": "code",
   "execution_count": 12,
   "id": "5329a1b9",
   "metadata": {},
   "outputs": [
    {
     "name": "stdout",
     "output_type": "stream",
     "text": [
      "loss at epoch 0 is 0.4206\n",
      "loss at epoch 100 is 0.3840\n",
      "loss at epoch 200 is 0.3553\n",
      "loss at epoch 300 is 0.3314\n",
      "loss at epoch 400 is 0.3108\n",
      "loss at epoch 500 is 0.2924\n",
      "loss at epoch 600 is 0.2759\n",
      "loss at epoch 700 is 0.2608\n",
      "loss at epoch 800 is 0.2469\n",
      "loss at epoch 900 is 0.2342\n",
      "loss at epoch 1000 is 0.2225\n",
      "loss at epoch 1100 is 0.2116\n",
      "loss at epoch 1200 is 0.2016\n",
      "loss at epoch 1300 is 0.1923\n",
      "loss at epoch 1400 is 0.1837\n",
      "loss at epoch 1500 is 0.1757\n",
      "loss at epoch 1600 is 0.1682\n",
      "loss at epoch 1700 is 0.1613\n",
      "loss at epoch 1800 is 0.1549\n",
      "loss at epoch 1900 is 0.1488\n",
      "loss at epoch 2000 is 0.1432\n",
      "loss at epoch 2100 is 0.1380\n",
      "loss at epoch 2200 is 0.1330\n",
      "loss at epoch 2300 is 0.1284\n",
      "loss at epoch 2400 is 0.1240\n",
      "loss at epoch 2500 is 0.1199\n",
      "loss at epoch 2600 is 0.1161\n",
      "loss at epoch 2700 is 0.1124\n",
      "loss at epoch 2800 is 0.1090\n",
      "loss at epoch 2900 is 0.1057\n",
      "loss at epoch 3000 is 0.1026\n",
      "loss at epoch 3100 is 0.0997\n",
      "loss at epoch 3200 is 0.0969\n",
      "loss at epoch 3300 is 0.0943\n",
      "loss at epoch 3400 is 0.0918\n",
      "loss at epoch 3500 is 0.0894\n",
      "loss at epoch 3600 is 0.0871\n",
      "loss at epoch 3700 is 0.0850\n",
      "loss at epoch 3800 is 0.0829\n",
      "loss at epoch 3900 is 0.0809\n",
      "loss at epoch 4000 is 0.0790\n",
      "loss at epoch 4100 is 0.0772\n",
      "loss at epoch 4200 is 0.0755\n",
      "loss at epoch 4300 is 0.0738\n",
      "loss at epoch 4400 is 0.0722\n",
      "loss at epoch 4500 is 0.0707\n",
      "loss at epoch 4600 is 0.0692\n",
      "loss at epoch 4700 is 0.0678\n",
      "loss at epoch 4800 is 0.0665\n",
      "loss at epoch 4900 is 0.0652\n",
      "final predictions:\n",
      " [0.0990815  0.95709341 0.95709263 0.06159245]\n"
     ]
    }
   ],
   "source": [
    "import numpy as np\n",
    "\n",
    "def sigmoid(x):\n",
    "    return 1 / (1 + np.exp(-x))\n",
    "\n",
    "def sigmoid_derivative(x):\n",
    "    s = sigmoid(x)\n",
    "    return s * (1 - s)\n",
    "\n",
    "def binary_cross_entropy(y_true, y_pred):\n",
    "    epsilon = 1e-8\n",
    "    return -np.mean(y_true * np.log(y_pred + epsilon) + (1 - y_true) * np.log(1 - y_pred + epsilon))\n",
    "\n",
    "# Data\n",
    "weight = np.array([133, 160, 152, 120])\n",
    "height = np.array([65, 72, 70, 60]) \n",
    "weight-=133\n",
    "height-=66\n",
    "x = np.array([weight, height]).T\n",
    "\n",
    "y_true = np.array([0, 1, 1, 0]).reshape(-1, 1)\n",
    "\n",
    "# Hyperparams\n",
    "alpha = 0.01\n",
    "epochs = 5000\n",
    "m = x.shape[0]  # batch size = 4\n",
    "\n",
    "# Initialize weights\n",
    "np.random.seed(42)\n",
    "w1 = np.random.randn(2, 2)\n",
    "b1 = np.random.randn(1, 2)\n",
    "w2 = np.random.randn(2, 1)\n",
    "b2 = np.random.normal()\n",
    "\n",
    "# Training loop\n",
    "for epoch in range(epochs):\n",
    "    # Forward pass\n",
    "    z1 = np.dot(x, w1.T) + b1\n",
    "    a1 = sigmoid(z1)\n",
    "    z2 = np.dot(a1, w2) + b2\n",
    "    y_pred = sigmoid(z2)\n",
    "\n",
    "    # Loss\n",
    "    loss = binary_cross_entropy(y_true, y_pred)\n",
    "\n",
    "    # Backpropagation\n",
    "    dz2 = y_pred - y_true                     # (4, 1)\n",
    "    dw2 = np.dot(a1.T, dz2) / m              # (2, 1)\n",
    "    db2 = np.sum(dz2, axis=0) / m            # scalar\n",
    "\n",
    "    dz1 = np.dot(dz2, w2.T) * sigmoid_derivative(z1)  # (4, 2)\n",
    "    dw1 = np.dot(dz1.T, x) / m                        # (2, 2)\n",
    "    db1 = np.sum(dz1, axis=0, keepdims=True) / m      # (1, 2)\n",
    "\n",
    "    # Update weights\n",
    "    w2 -= alpha * dw2\n",
    "    b2 -= alpha * db2\n",
    "    w1 -= alpha * dw1\n",
    "    b1 -= alpha * db1\n",
    "\n",
    "    if epoch % 100 == 0:\n",
    "        print(f\"loss at epoch {epoch} is {loss:.4f}\")\n",
    "\n",
    "# Final predictions\n",
    "print(\"final predictions:\\n\", y_pred.flatten())\n"
   ]
  },
  {
   "cell_type": "code",
   "execution_count": 13,
   "id": "3f4e8f70",
   "metadata": {},
   "outputs": [
    {
     "name": "stdout",
     "output_type": "stream",
     "text": [
      "Prediction: 0.0690186401179891\n",
      "\n",
      "female\n"
     ]
    }
   ],
   "source": [
    "# testing out our neural network on a sample example\n",
    "# it works well !!\n",
    "x_new = np.array([[(128-133), (0)]])  # shape: (1, 2)\n",
    "\n",
    "# Forward pass\n",
    "z1 = np.dot(x_new, w1.T) + b1       # (1, 2)\n",
    "a1 = sigmoid(z1)                    # (1, 2)\n",
    "z2 = np.dot(a1, w2) + b2            # (1, 1)\n",
    "y_pred = sigmoid(z2)                # (1, 1)\n",
    "\n",
    "print(\"Prediction:\", y_pred[0, 0])\n",
    "if(y_pred>0.5):\n",
    "    print(\"\\nmale\")\n",
    "else:\n",
    "    print(\"\\nfemale\")"
   ]
  },
  {
   "cell_type": "code",
   "execution_count": null,
   "id": "93bed7e7",
   "metadata": {},
   "outputs": [],
   "source": []
  }
 ],
 "metadata": {
  "kernelspec": {
   "display_name": "Python 3",
   "language": "python",
   "name": "python3"
  },
  "language_info": {
   "codemirror_mode": {
    "name": "ipython",
    "version": 3
   },
   "file_extension": ".py",
   "mimetype": "text/x-python",
   "name": "python",
   "nbconvert_exporter": "python",
   "pygments_lexer": "ipython3",
   "version": "3.12.8"
  }
 },
 "nbformat": 4,
 "nbformat_minor": 5
}
