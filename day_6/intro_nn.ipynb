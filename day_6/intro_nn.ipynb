{
 "cells": [
  {
   "cell_type": "markdown",
   "id": "7e084e7c",
   "metadata": {},
   "source": [
    "# Activation Functions\n",
    "\n",
    "Activation functions add *non-linearity* to our neural networks.  \n",
    "Let's implement and visualize a few common ones:\n",
    "-Step\n",
    "- Sigmoid\n",
    "- Tanh\n",
    "- ReLU\n",
    "\n",
    "We'll also test them with some example `z` values: [-2, -1, 0, 1, 2].\n"
   ]
  },
  {
   "cell_type": "code",
   "execution_count": 1,
   "id": "893312b0",
   "metadata": {},
   "outputs": [],
   "source": [
    "import numpy as np\n",
    "import matplotlib.pyplot as plt"
   ]
  },
  {
   "cell_type": "code",
   "execution_count": 36,
   "id": "fbec3eac",
   "metadata": {},
   "outputs": [],
   "source": [
    "def step(x):\n",
    "    return 1 if(x>0) else 0\n",
    "\n",
    "def sigmoid(x):\n",
    "    return 1/(1+np.exp(-x))\n",
    "\n",
    "def tanh(x):\n",
    "    return (np.exp(x)-np.exp(-x))/(np.exp(x)+np.exp(-x))\n",
    "\n",
    "def tanh_easy(x):\n",
    "    return np.tanh(x)\n",
    "\n",
    "def relu(x):\n",
    "    return np.maximum(0, x)"
   ]
  },
  {
   "cell_type": "markdown",
   "id": "b8e47abf",
   "metadata": {},
   "source": [
    "## Now let's write the function for derivative of these activation functions"
   ]
  },
  {
   "cell_type": "code",
   "execution_count": 37,
   "id": "bbffd146",
   "metadata": {},
   "outputs": [],
   "source": [
    "def sigmoid_derivative(x):\n",
    "    return sigmoid(x)*(1-sigmoid(x))\n",
    "\n",
    "def tanh_derivate(x):\n",
    "    return 1-(tanh(x))**2\n",
    "\n",
    "def relu_derivative(x):\n",
    "    return x>0"
   ]
  },
  {
   "cell_type": "markdown",
   "id": "f64539a3",
   "metadata": {},
   "source": [
    "## Now let's define the structure of a Perceptron"
   ]
  },
  {
   "cell_type": "code",
   "execution_count": 40,
   "id": "9b3c5ef4",
   "metadata": {},
   "outputs": [],
   "source": [
    "def perceptron(x, w,b):\n",
    "    z=np.dot(w,x)+b\n",
    "\n",
    "    return int(step(z))"
   ]
  },
  {
   "cell_type": "code",
   "execution_count": 55,
   "id": "b00f9c28",
   "metadata": {},
   "outputs": [],
   "source": [
    "w = np.array([0.5, -0.6, 0.8])  # sleep, classes, energy\n",
    "b = -2.8\n",
    "\n",
    "scenarios = [\n",
    "    np.array([8, 2, 7]),  # well slept, few classes, good energy\n",
    "    np.array([5, 5, 4]),  # tired, too many classes\n",
    "    np.array([7, 1, 6]),  # light day, decent energy\n",
    "    np.array([4, 3, 3])   # tired and low energy\n",
    "]"
   ]
  },
  {
   "cell_type": "code",
   "execution_count": 57,
   "id": "f39595ac",
   "metadata": {},
   "outputs": [
    {
     "name": "stdout",
     "output_type": "stream",
     "text": [
      "Go to the Gym!!\n",
      "Nahh don't go\n",
      "Go to the Gym!!\n",
      "Nahh don't go\n"
     ]
    }
   ],
   "source": [
    "for i in scenarios:\n",
    "    decision = perceptron(i,w ,b)\n",
    "    if(decision==1):\n",
    "        print(\"Go to the Gym!!\")\n",
    "    else:\n",
    "        print(\"Nahh don't go\")"
   ]
  },
  {
   "cell_type": "code",
   "execution_count": null,
   "id": "6ae2b17c",
   "metadata": {},
   "outputs": [],
   "source": []
  }
 ],
 "metadata": {
  "kernelspec": {
   "display_name": "Python 3",
   "language": "python",
   "name": "python3"
  },
  "language_info": {
   "codemirror_mode": {
    "name": "ipython",
    "version": 3
   },
   "file_extension": ".py",
   "mimetype": "text/x-python",
   "name": "python",
   "nbconvert_exporter": "python",
   "pygments_lexer": "ipython3",
   "version": "3.12.8"
  }
 },
 "nbformat": 4,
 "nbformat_minor": 5
}
