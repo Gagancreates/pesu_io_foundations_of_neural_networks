{
 "cells": [
  {
   "cell_type": "code",
   "execution_count": 23,
   "id": "541582b5",
   "metadata": {},
   "outputs": [],
   "source": [
    "import numpy as np\n",
    "import matplotlib.pyplot as plt"
   ]
  },
  {
   "cell_type": "code",
   "execution_count": 43,
   "id": "2c659ef5",
   "metadata": {},
   "outputs": [
    {
     "name": "stdout",
     "output_type": "stream",
     "text": [
      "Areas: [ 500  800 1000 1200 1500 1800 2000 2500]\n",
      "Prices: [ 70 100 120 140 170 200 220 270]\n"
     ]
    }
   ],
   "source": [
    "# Toy dataset: Area (sqft) vs Price (lakhs)\n",
    "\n",
    "X = np.array([500, 800, 1000, 1200, 1500, 1800, 2000, 2500])\n",
    "y=np.array([ 70, 100, 120, 140, 170, 200, 220, 270])\n",
    "\n",
    "print(\"Areas:\", X)\n",
    "print(\"Prices:\", y)\n"
   ]
  },
  {
   "cell_type": "code",
   "execution_count": 44,
   "id": "403e5650",
   "metadata": {},
   "outputs": [
    {
     "data": {
      "text/plain": [
       "np.float64(0.55)"
      ]
     },
     "execution_count": 44,
     "metadata": {},
     "output_type": "execute_result"
    }
   ],
   "source": [
    "#normalise the input X using minmax\n",
    "\n",
    "a=(1600-np.min(X))/(np.max(X)-np.min(X))\n",
    "a"
   ]
  },
  {
   "cell_type": "code",
   "execution_count": null,
   "id": "67695726",
   "metadata": {},
   "outputs": [],
   "source": [
    "X=(X-np.min(X))/(np.max(X)-np.min(X))\n",
    "X"
   ]
  },
  {
   "cell_type": "code",
   "execution_count": 46,
   "id": "a39561cb",
   "metadata": {},
   "outputs": [],
   "source": [
    "# now lets train the network to identify the weights and bias\n",
    "# initialise ranom weights and bias\n",
    "np.random.seed(11)\n",
    "w=np.random.rand()\n",
    "b=0"
   ]
  },
  {
   "cell_type": "code",
   "execution_count": 47,
   "id": "c97610b4",
   "metadata": {},
   "outputs": [],
   "source": [
    "def prediction(X, w, b):\n",
    "    return np.dot(w, X)+b"
   ]
  },
  {
   "cell_type": "code",
   "execution_count": 48,
   "id": "6c25a936",
   "metadata": {},
   "outputs": [
    {
     "name": "stdout",
     "output_type": "stream",
     "text": [
      "nan nan\n"
     ]
    },
    {
     "name": "stderr",
     "output_type": "stream",
     "text": [
      "c:\\PythonEnv\\Lib\\site-packages\\numpy\\_core\\fromnumeric.py:86: RuntimeWarning: overflow encountered in reduce\n",
      "  return ufunc.reduce(obj, axis, dtype, out, **passkwargs)\n",
      "C:\\Users\\Gagan\\AppData\\Local\\Temp\\ipykernel_27584\\1774199068.py:8: RuntimeWarning: invalid value encountered in scalar subtract\n",
      "  w=w-alpha*dw\n"
     ]
    }
   ],
   "source": [
    "epoch=1000\n",
    "n=len(X)\n",
    "alpha=1e-4\n",
    "for __ in range(epoch):\n",
    "    y_pred=prediction(X, w, b)\n",
    "    dw=(-2/n)*(np.sum(X*(y-y_pred)))\n",
    "    db=(-2/n)*(np.sum((y-y_pred)))\n",
    "    w=w-alpha*dw\n",
    "    b=b-alpha*db\n",
    "\n",
    "\n",
    "print(w, b)"
   ]
  },
  {
   "cell_type": "code",
   "execution_count": 49,
   "id": "cade3e48",
   "metadata": {},
   "outputs": [
    {
     "name": "stdout",
     "output_type": "stream",
     "text": [
      "[nan nan nan nan nan nan nan nan]\n"
     ]
    },
    {
     "data": {
      "text/plain": [
       "array([ 70, 100, 120, 140, 170, 200, 220, 270])"
      ]
     },
     "execution_count": 49,
     "metadata": {},
     "output_type": "execute_result"
    }
   ],
   "source": [
    "print(prediction(X, w, b))\n",
    "y\n",
    "\n",
    "# our prediction matches the output!!"
   ]
  },
  {
   "cell_type": "code",
   "execution_count": 32,
   "id": "2b4f51c4",
   "metadata": {},
   "outputs": [
    {
     "data": {
      "text/plain": [
       "np.float64(nan)"
      ]
     },
     "execution_count": 32,
     "metadata": {},
     "output_type": "execute_result"
    }
   ],
   "source": [
    "prediction(a, w, b)"
   ]
  },
  {
   "cell_type": "code",
   "execution_count": 53,
   "id": "a904f319",
   "metadata": {},
   "outputs": [
    {
     "name": "stdout",
     "output_type": "stream",
     "text": [
      "Initial w: 0.1802696888767692, b: 0.0\n",
      "Epoch 0: w=-0.145916, b=-0.000187, loss=11223.80\n",
      "Epoch 500: w=-274128723211639035352789989117741175904013097804688186237460966025396475356382701672732967025254975983931041316955661677045283577938436411383541022228057343820344863668432422115376321295284919601210577032308659427538520570014105563697195124569641438438323193660261084967270334253051674624.000000, b=-162436013850612317093506689591340616659260874234647921808221150016745346093981026858142744148642149887782484617228339888124200037106685335149787302076675614491431557615213042840525641650733487787621667858327077101729606911877550689102376276476831958580896180498617163796744301466091520.000000, loss=inf\n",
      "Epoch 1000: w=nan, b=nan, loss=nan\n",
      "Epoch 1500: w=nan, b=nan, loss=nan\n",
      "Epoch 2000: w=nan, b=nan, loss=nan\n",
      "Epoch 2500: w=nan, b=nan, loss=nan\n",
      "Epoch 3000: w=nan, b=nan, loss=nan\n",
      "Epoch 3500: w=nan, b=nan, loss=nan\n",
      "Epoch 4000: w=nan, b=nan, loss=nan\n",
      "Epoch 4500: w=nan, b=nan, loss=nan\n",
      "\n",
      "Final w: nan, b: nan\n",
      "Predictions: [nan nan nan nan nan nan nan nan]\n",
      "Actual:      [ 70 100 120 140 170 200 220 270]\n"
     ]
    },
    {
     "name": "stderr",
     "output_type": "stream",
     "text": [
      "C:\\Users\\Gagan\\AppData\\Local\\Temp\\ipykernel_27584\\1716349405.py:31: RuntimeWarning: overflow encountered in square\n",
      "  loss = np.mean((y - y_pred)**2)\n",
      "C:\\Users\\Gagan\\AppData\\Local\\Temp\\ipykernel_27584\\1716349405.py:26: RuntimeWarning: invalid value encountered in scalar subtract\n",
      "  w = w - alpha * dw\n"
     ]
    }
   ],
   "source": [
    "import numpy as np\n",
    "\n",
    "# Toy dataset\n",
    "X = np.array([500, 800, 1000, 1200, 1500, 1800, 2000, 2500])\n",
    "y = np.array([70, 100, 120, 140, 170, 200, 220, 270])\n",
    "\n",
    "def prediction(X, w, b):\n",
    "    return w * X + b\n",
    "\n",
    "# Initialize\n",
    "np.random.seed(11)\n",
    "w = np.random.rand()\n",
    "b = 0.0\n",
    "\n",
    "print(f\"Initial w: {w}, b: {b}\")\n",
    "\n",
    "# Training with MUCH smaller learning rate\n",
    "epoch = 5000  # More epochs since we're going slower\n",
    "n = len(X)\n",
    "alpha = 1e-6  # Try this tiny learning rate!\n",
    "\n",
    "for i in range(epoch):\n",
    "    y_pred = prediction(X, w, b)\n",
    "    dw = (-2/n) * (np.sum(X * (y - y_pred)))\n",
    "    db = (-2/n) * (np.sum((y - y_pred)))\n",
    "    w = w - alpha * dw\n",
    "    b = b - alpha * db\n",
    "    \n",
    "    # Print every 500 iterations\n",
    "    if i % 500 == 0:\n",
    "        loss = np.mean((y - y_pred)**2)\n",
    "        print(f\"Epoch {i}: w={w:.6f}, b={b:.6f}, loss={loss:.2f}\")\n",
    "\n",
    "print(f\"\\nFinal w: {w}, b: {b}\")\n",
    "print(f\"Predictions: {prediction(X, w, b)}\")\n",
    "print(f\"Actual:      {y}\")"
   ]
  },
  {
   "cell_type": "code",
   "execution_count": null,
   "id": "3353bcca",
   "metadata": {},
   "outputs": [
    {
     "data": {
      "text/plain": [
       "0.1802696888767692"
      ]
     },
     "execution_count": 55,
     "metadata": {},
     "output_type": "execute_result"
    }
   ],
   "source": [
    "# initialise ranom weights and bias\n",
    "np.random.seed(11)\n",
    "w=np.random.rand()\n",
    "b=0\n",
    "w"
   ]
  },
  {
   "cell_type": "code",
   "execution_count": 56,
   "id": "2f3a1e73",
   "metadata": {},
   "outputs": [
    {
     "data": {
      "text/plain": [
       "array([ 90.13484444, 144.2157511 , 180.26968888, 216.32362665,\n",
       "       270.40453332, 324.48543998, 360.53937775, 450.67422219])"
      ]
     },
     "execution_count": 56,
     "metadata": {},
     "output_type": "execute_result"
    }
   ],
   "source": [
    "#our intial w is 0.18 \n",
    "y_pred =prediction(X, w, b) \n",
    "y_pred "
   ]
  },
  {
   "cell_type": "code",
   "execution_count": 57,
   "id": "99bb72f9",
   "metadata": {},
   "outputs": [
    {
     "data": {
      "text/plain": [
       "array([ -20.13484444,  -44.2157511 ,  -60.26968888,  -76.32362665,\n",
       "       -100.40453332, -124.48543998, -140.53937775, -180.67422219])"
      ]
     },
     "execution_count": 57,
     "metadata": {},
     "output_type": "execute_result"
    }
   ],
   "source": [
    "y-y_pred"
   ]
  },
  {
   "cell_type": "code",
   "execution_count": 58,
   "id": "b9a85694",
   "metadata": {},
   "outputs": [
    {
     "data": {
      "text/plain": [
       "np.float64(326185.74171999714)"
      ]
     },
     "execution_count": 58,
     "metadata": {},
     "output_type": "execute_result"
    }
   ],
   "source": [
    "dw = (-2/n) * (np.sum(X * (y - y_pred)))\n",
    "dw"
   ]
  },
  {
   "cell_type": "code",
   "execution_count": 59,
   "id": "933f1c77",
   "metadata": {},
   "outputs": [
    {
     "data": {
      "text/plain": [
       "np.float64(-3261.677147511095)"
      ]
     },
     "execution_count": 59,
     "metadata": {},
     "output_type": "execute_result"
    }
   ],
   "source": [
    "alpha=0.01\n",
    "w=w-alpha*dw\n",
    "w"
   ]
  },
  {
   "cell_type": "code",
   "execution_count": 60,
   "id": "c93d0e1a",
   "metadata": {},
   "outputs": [
    {
     "data": {
      "text/plain": [
       "array([-1630838.57375555, -2609341.71800888, -3261677.14751109,\n",
       "       -3914012.57701331, -4892515.72126664, -5871018.86551997,\n",
       "       -6523354.29502219, -8154192.86877774])"
      ]
     },
     "execution_count": 60,
     "metadata": {},
     "output_type": "execute_result"
    }
   ],
   "source": [
    "#now our new w is -3261.677\n",
    "# lets do the step again\n",
    "\n",
    "y_pred=prediction(X,w, b)\n",
    "y_pred"
   ]
  },
  {
   "cell_type": "code",
   "execution_count": 61,
   "id": "f40c6c0d",
   "metadata": {},
   "outputs": [
    {
     "data": {
      "text/plain": [
       "array([1630908.57375555, 2609441.71800888, 3261797.14751109,\n",
       "       3914152.57701331, 4892685.72126664, 5871218.86551997,\n",
       "       6523574.29502219, 8154462.86877774])"
      ]
     },
     "execution_count": 61,
     "metadata": {},
     "output_type": "execute_result"
    }
   ],
   "source": [
    "y-y_pred"
   ]
  },
  {
   "cell_type": "code",
   "execution_count": 62,
   "id": "c0e71ec8",
   "metadata": {},
   "outputs": [
    {
     "data": {
      "text/plain": [
       "np.float64(-15550579050.759144)"
      ]
     },
     "execution_count": 62,
     "metadata": {},
     "output_type": "execute_result"
    }
   ],
   "source": [
    "dw = (-2/n) * (np.sum(X * (y - y_pred)))\n",
    "dw"
   ]
  },
  {
   "cell_type": "code",
   "execution_count": null,
   "id": "71ec0566",
   "metadata": {},
   "outputs": [
    {
     "data": {
      "text/plain": [
       "np.float64(155502528.83044395)"
      ]
     },
     "execution_count": 63,
     "metadata": {},
     "output_type": "execute_result"
    }
   ],
   "source": [
    "alpha=0.01\n",
    "w=w-alpha*dw\n",
    "w\n",
    "# w is too large in just 2 epochs, for 100 epochs it will reach infinity or nan"
   ]
  },
  {
   "cell_type": "code",
   "execution_count": null,
   "id": "0fc6450c",
   "metadata": {},
   "outputs": [],
   "source": []
  }
 ],
 "metadata": {
  "kernelspec": {
   "display_name": "Python 3",
   "language": "python",
   "name": "python3"
  },
  "language_info": {
   "codemirror_mode": {
    "name": "ipython",
    "version": 3
   },
   "file_extension": ".py",
   "mimetype": "text/x-python",
   "name": "python",
   "nbconvert_exporter": "python",
   "pygments_lexer": "ipython3",
   "version": "3.12.8"
  }
 },
 "nbformat": 4,
 "nbformat_minor": 5
}
