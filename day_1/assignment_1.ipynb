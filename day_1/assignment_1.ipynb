{
 "cells": [
  {
   "cell_type": "markdown",
   "id": "0b920c7a",
   "metadata": {},
   "source": [
    "### Exercise 1 – Swap Two Variables\n",
    "Swap the values of `a` and `b` without using a third variable.\n"
   ]
  },
  {
   "cell_type": "markdown",
   "id": "797af992",
   "metadata": {},
   "source": [
    "a, b = 5, 10\n",
    "# TODO: swap a and b\n",
    "print(\"a =\", a, \"b =\", b)   # should print a = 10  b = 5\n"
   ]
  },
  {
   "cell_type": "markdown",
   "id": "d2b49176",
   "metadata": {},
   "source": [
    "### Exercise 2 – Format a String\n",
    "Fill in the blanks to print:\n",
    "`Hello Alice, welcome to Machine Learning!`\n"
   ]
  },
  {
   "cell_type": "markdown",
   "id": "b409b6bb",
   "metadata": {},
   "source": [
    "name = \"Alice\"\n",
    "course = \"Machine Learning\"\n",
    "print(f\"Hello ____, welcome to ____!\")\n"
   ]
  },
  {
   "cell_type": "markdown",
   "id": "bde54138",
   "metadata": {},
   "source": [
    "### Answer:\n",
    "```python\n",
    "print(f\"Hello {name}, welcome to {course!\")"
   ]
  },
  {
   "cell_type": "markdown",
   "id": "53fc93e6",
   "metadata": {},
   "source": [
    "### Exercise 3 – List Methods\n",
    "Given a list of numbers:\n",
    "1. Append `10` to the list  \n",
    "2. Remove the first element ( Hint: use `.pop(index)` : `nums.pop(index))`\n",
    "3. Print the new list\n"
   ]
  },
  {
   "cell_type": "code",
   "execution_count": null,
   "id": "e07c83d0",
   "metadata": {},
   "outputs": [],
   "source": [
    "nums = [2, 4, 6, 8]\n",
    "# TODO: your code here\n",
    "print(nums)\n"
   ]
  },
  {
   "cell_type": "markdown",
   "id": "68f5e24e",
   "metadata": {},
   "source": [
    "### Exercise 4 – Grade Checker\n",
    "Write code to print:\n",
    "- \"Pass\" if marks >= 40  \n",
    "- \"Fail\" otherwise\n"
   ]
  },
  {
   "cell_type": "code",
   "execution_count": null,
   "id": "52560b25",
   "metadata": {},
   "outputs": [],
   "source": [
    "marks = 35\n",
    "# TODO: use if/else\n"
   ]
  },
  {
   "cell_type": "markdown",
   "id": "24a02961",
   "metadata": {},
   "source": [
    "### Exercise 5 – Sum of Even Numbers\n",
    "Use a `for` loop to find the sum of all even numbers from 1 to 20.\n"
   ]
  },
  {
   "cell_type": "markdown",
   "id": "2e27c5c3",
   "metadata": {},
   "source": [
    "total = 0\n",
    "# TODO: your code here\n",
    "print(\"Sum of evens =\", total)\n"
   ]
  },
  {
   "cell_type": "markdown",
   "id": "5572c795",
   "metadata": {},
   "source": [
    "### Exercise 6 – Countdown\n",
    "Write a while loop that counts down from 5 to 1 and then prints \"Blast Off!\".\n"
   ]
  },
  {
   "cell_type": "code",
   "execution_count": null,
   "id": "36c459e7",
   "metadata": {},
   "outputs": [],
   "source": [
    "n = 5\n",
    "# TODO: while loop\n"
   ]
  },
  {
   "cell_type": "markdown",
   "id": "4c6f5c65",
   "metadata": {},
   "source": [
    "### Exercise 7 – Squares of Odd Numbers\n",
    "Create a list of squares of all odd numbers between 1 and 10 using a single line of code.\n"
   ]
  },
  {
   "cell_type": "code",
   "execution_count": null,
   "id": "877d9ac0",
   "metadata": {},
   "outputs": [],
   "source": [
    "# Your Code"
   ]
  },
  {
   "cell_type": "markdown",
   "id": "e7115626",
   "metadata": {},
   "source": [
    "### Answer: \n",
    "```python\n",
    "odd=[i**2 for i in range(10) if i%2!=0]\n",
    "odd"
   ]
  },
  {
   "cell_type": "markdown",
   "id": "4c45d161",
   "metadata": {},
   "source": [
    "### Exercise 8 – Maximum of Two\n",
    "Define a function `maximum(a,b)` that returns the larger of the two numbers.\n"
   ]
  },
  {
   "cell_type": "code",
   "execution_count": null,
   "id": "d75e5bae",
   "metadata": {},
   "outputs": [],
   "source": [
    "def maximum(a, b):\n",
    "    # TODO: use if/else to return bigger number\n",
    "    pass\n",
    "\n",
    "print(maximum(5, 9))  # expected output: 9\n"
   ]
  },
  {
   "cell_type": "markdown",
   "id": "6a307913",
   "metadata": {},
   "source": [
    "### Exercise 1 – Create a Mini Dataset\n",
    "Imagine each number is a sample’s “score”.  \n",
    "1. Create a list of numbers from 1 to 10  \n",
    "2. Print the length of the list  \n",
    "3. Print the first and last element\n"
   ]
  },
  {
   "cell_type": "code",
   "execution_count": null,
   "id": "babebf65",
   "metadata": {},
   "outputs": [],
   "source": [
    "# Your Code Here"
   ]
  }
 ],
 "metadata": {
  "kernelspec": {
   "display_name": "Python 3",
   "language": "python",
   "name": "python3"
  },
  "language_info": {
   "codemirror_mode": {
    "name": "ipython",
    "version": 3
   },
   "file_extension": ".py",
   "mimetype": "text/x-python",
   "name": "python",
   "nbconvert_exporter": "python",
   "pygments_lexer": "ipython3",
   "version": "3.12.8"
  }
 },
 "nbformat": 4,
 "nbformat_minor": 5
}
